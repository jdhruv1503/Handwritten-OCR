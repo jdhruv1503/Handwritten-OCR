{
 "cells": [
  {
   "cell_type": "code",
   "execution_count": 7,
   "metadata": {},
   "outputs": [
    {
     "name": "stdout",
     "output_type": "stream",
     "text": [
      "Original dataset size: 330961\n",
      "Filtered dataset size: 330294\n"
     ]
    }
   ],
   "source": [
    "import pandas as pd\n",
    "import os\n",
    "import shutil\n",
    "\n",
    "# Read the CSV file\n",
    "df = pd.read_csv('written_name_train_v2.csv')\n",
    "\n",
    "# Remove NaN and \"UNREADABLE\" entries\n",
    "df = df.dropna()\n",
    "df = df[df['IDENTITY'] != 'UNREADABLE']\n",
    "df['IDENTITY'] = df['IDENTITY'].str.upper()\n",
    "\n",
    "# Get list of valid image files in train folder\n",
    "valid_images = set(os.listdir('train_v2/train'))\n",
    "\n",
    "# Only keep rows where image file exists\n",
    "# Create new directory for valid images if it doesn't exist\n",
    "os.makedirs('train_v2/train_filtered', exist_ok=True)\n",
    "\n",
    "# Copy valid images to new directory\n",
    "for img_file in df['FILENAME']:\n",
    "    src = os.path.join('train_v2/train', img_file)\n",
    "    dst = os.path.join('train_v2/train_filtered', img_file)\n",
    "    shutil.copy2(src, dst)\n",
    "\n",
    "# Save filtered CSV\n",
    "df.to_csv('written_name_train_v2_filtered.csv', index=False)\n",
    "\n",
    "print(f\"Original dataset size: {len(pd.read_csv('written_name_train_v2.csv'))}\")\n",
    "print(f\"Filtered dataset size: {len(df)}\")"
   ]
  },
  {
   "cell_type": "code",
   "execution_count": 8,
   "metadata": {},
   "outputs": [
    {
     "name": "stdout",
     "output_type": "stream",
     "text": [
      "Original dataset size: 41370\n",
      "Filtered dataset size: 41280\n"
     ]
    }
   ],
   "source": [
    "df = pd.read_csv('written_name_validation_v2.csv')\n",
    "\n",
    "# Remove NaN and \"UNREADABLE\" entries\n",
    "df = df.dropna()\n",
    "df = df[df['IDENTITY'] != 'UNREADABLE']\n",
    "df['IDENTITY'] = df['IDENTITY'].str.upper()\n",
    "\n",
    "# Get list of valid image files in train folder\n",
    "valid_images = set(os.listdir('validation_v2/validation'))\n",
    "\n",
    "# Only keep rows where image file exists\n",
    "# Create new directory for valid images if it doesn't exist\n",
    "os.makedirs('validation_v2/validation_filtered', exist_ok=True)\n",
    "\n",
    "# Copy valid images to new directory\n",
    "for img_file in df['FILENAME']:\n",
    "    src = os.path.join('validation_v2/validation', img_file)\n",
    "    dst = os.path.join('validation_v2/validation_filtered', img_file)\n",
    "    shutil.copy2(src, dst)\n",
    "\n",
    "# Save filtered CSV\n",
    "df.to_csv('written_name_validation_v2_filtered.csv', index=False)\n",
    "\n",
    "print(f\"Original dataset size: {len(pd.read_csv('written_name_validation_v2.csv'))}\")\n",
    "print(f\"Filtered dataset size: {len(df)}\")"
   ]
  },
  {
   "cell_type": "code",
   "execution_count": null,
   "metadata": {},
   "outputs": [],
   "source": []
  }
 ],
 "metadata": {
  "kernelspec": {
   "display_name": "venv",
   "language": "python",
   "name": "python3"
  },
  "language_info": {
   "codemirror_mode": {
    "name": "ipython",
    "version": 3
   },
   "file_extension": ".py",
   "mimetype": "text/x-python",
   "name": "python",
   "nbconvert_exporter": "python",
   "pygments_lexer": "ipython3",
   "version": "3.9.18"
  }
 },
 "nbformat": 4,
 "nbformat_minor": 2
}
