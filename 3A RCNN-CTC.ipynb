{
 "cells": [
  {
   "cell_type": "code",
   "execution_count": 17,
   "metadata": {},
   "outputs": [],
   "source": [
    "from utils.preprocessor import ImagePreprocessor"
   ]
  },
  {
   "cell_type": "code",
   "execution_count": 18,
   "metadata": {},
   "outputs": [],
   "source": [
    "preproc = ImagePreprocessor()"
   ]
  },
  {
   "cell_type": "code",
   "execution_count": 19,
   "metadata": {},
   "outputs": [
    {
     "ename": "NameError",
     "evalue": "name 'os' is not defined",
     "output_type": "error",
     "traceback": [
      "\u001b[0;31m---------------------------------------------------------------------------\u001b[0m",
      "\u001b[0;31mNameError\u001b[0m                                 Traceback (most recent call last)",
      "Cell \u001b[0;32mIn[19], line 1\u001b[0m\n\u001b[0;32m----> 1\u001b[0m \u001b[43mpreproc\u001b[49m\u001b[38;5;241;43m.\u001b[39;49m\u001b[43mprocess_directory_and_load\u001b[49m\u001b[43m(\u001b[49m\u001b[38;5;124;43m'\u001b[39;49m\u001b[38;5;124;43mvalidation_v2/validation_filtered\u001b[39;49m\u001b[38;5;124;43m'\u001b[39;49m\u001b[43m,\u001b[49m\u001b[43m \u001b[49m\u001b[38;5;124;43m'\u001b[39;49m\u001b[38;5;124;43m'\u001b[39;49m\u001b[43m)\u001b[49m\n",
      "File \u001b[0;32m~/Documents/Projects/ELL409 Project/utils/preprocessor.py:51\u001b[0m, in \u001b[0;36mImagePreprocessor.process_directory_and_load\u001b[0;34m(self, directory_path, output_directory_path, clahe_clip_limit, clahe_tile_grid_size, blur_size, row_threshold_factor, width_weight, center_weight, target_width, target_height, skip, skip_threshold)\u001b[0m\n\u001b[1;32m     49\u001b[0m \u001b[38;5;28;01mdef\u001b[39;00m \u001b[38;5;21mprocess_directory_and_load\u001b[39m(\u001b[38;5;28mself\u001b[39m, directory_path, output_directory_path, clahe_clip_limit\u001b[38;5;241m=\u001b[39m\u001b[38;5;241m2.0\u001b[39m, clahe_tile_grid_size\u001b[38;5;241m=\u001b[39m(\u001b[38;5;241m8\u001b[39m, \u001b[38;5;241m8\u001b[39m), blur_size\u001b[38;5;241m=\u001b[39m(\u001b[38;5;241m2\u001b[39m,\u001b[38;5;241m2\u001b[39m), row_threshold_factor\u001b[38;5;241m=\u001b[39m\u001b[38;5;241m0.02\u001b[39m, width_weight\u001b[38;5;241m=\u001b[39m\u001b[38;5;241m0.6\u001b[39m, center_weight\u001b[38;5;241m=\u001b[39m\u001b[38;5;241m0.4\u001b[39m, target_width\u001b[38;5;241m=\u001b[39m\u001b[38;5;241m128\u001b[39m, target_height\u001b[38;5;241m=\u001b[39m\u001b[38;5;241m64\u001b[39m, skip\u001b[38;5;241m=\u001b[39m\u001b[38;5;28;01mTrue\u001b[39;00m, skip_threshold\u001b[38;5;241m=\u001b[39m\u001b[38;5;241m5\u001b[39m):\n\u001b[1;32m     50\u001b[0m     \u001b[38;5;66;03m# List all image files in the directory\u001b[39;00m\n\u001b[0;32m---> 51\u001b[0m     image_files \u001b[38;5;241m=\u001b[39m [f \u001b[38;5;28;01mfor\u001b[39;00m f \u001b[38;5;129;01min\u001b[39;00m \u001b[43mos\u001b[49m\u001b[38;5;241m.\u001b[39mlistdir(directory_path) \u001b[38;5;28;01mif\u001b[39;00m f\u001b[38;5;241m.\u001b[39mlower()\u001b[38;5;241m.\u001b[39mendswith((\u001b[38;5;124m'\u001b[39m\u001b[38;5;124m.png\u001b[39m\u001b[38;5;124m'\u001b[39m, \u001b[38;5;124m'\u001b[39m\u001b[38;5;124m.jpg\u001b[39m\u001b[38;5;124m'\u001b[39m, \u001b[38;5;124m'\u001b[39m\u001b[38;5;124m.jpeg\u001b[39m\u001b[38;5;124m'\u001b[39m))]\n\u001b[1;32m     53\u001b[0m     \u001b[38;5;66;03m# Select 10 random images from the directory\u001b[39;00m\n\u001b[1;32m     54\u001b[0m     \u001b[38;5;66;03m# selected_images = random.sample(image_files, min(10, len(image_files)))\u001b[39;00m\n\u001b[1;32m     55\u001b[0m     selected_images \u001b[38;5;241m=\u001b[39m image_files\n",
      "\u001b[0;31mNameError\u001b[0m: name 'os' is not defined"
     ]
    }
   ],
   "source": [
    "preproc.process_directory_and_load('validation_v2/validation_filtered', '')"
   ]
  },
  {
   "cell_type": "code",
   "execution_count": null,
   "metadata": {},
   "outputs": [],
   "source": []
  }
 ],
 "metadata": {
  "kernelspec": {
   "display_name": "venv",
   "language": "python",
   "name": "python3"
  },
  "language_info": {
   "codemirror_mode": {
    "name": "ipython",
    "version": 3
   },
   "file_extension": ".py",
   "mimetype": "text/x-python",
   "name": "python",
   "nbconvert_exporter": "python",
   "pygments_lexer": "ipython3",
   "version": "3.9.18"
  }
 },
 "nbformat": 4,
 "nbformat_minor": 2
}
